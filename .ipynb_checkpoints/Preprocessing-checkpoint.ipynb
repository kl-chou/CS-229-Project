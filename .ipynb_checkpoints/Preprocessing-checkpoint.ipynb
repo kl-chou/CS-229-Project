{
 "cells": [
  {
   "cell_type": "code",
   "execution_count": 6,
   "metadata": {},
   "outputs": [],
   "source": [
    "from datetime import datetime\n",
    "\n",
    "import numpy as np\n",
    "import pandas as pd\n",
    "\n",
    "from sklearn import preprocessing "
   ]
  },
  {
   "cell_type": "code",
   "execution_count": 7,
   "metadata": {},
   "outputs": [],
   "source": [
    "def read_csv(filename):\n",
    "    \"\"\"\n",
    "    Read in CSV file of financial ratios and returns a pandas dataframe.\n",
    "    df is sorted by date in ascending order. \n",
    "    \"\"\"\n",
    "    df = pd.read_csv(filename)\n",
    "    \n",
    "    df = df.drop(labels=['pe_op_basic_Median', 'pe_op_dil_Median', 'PEG_1yrforward_Median', 'PEG_ltgforward_Median'], axis=1)\n",
    "    \n",
    "    df = encode(df, 'FFI49_desc')\n",
    "    \n",
    "    df = df.dropna()\n",
    "    df = df.sort_values(by='public_date', ascending=True)\n",
    "    \n",
    "    return df\n",
    "\n",
    "def pct_format(col): \n",
    "    temp = [float(x[:-1]) if x is not np.nan else 0 for x in col]\n",
    "    return pd.Series(temp)\n",
    "\n",
    "def write_csv(filename):\n",
    "    \"\"\"\n",
    "    Read in CSV file of financial ratios and returns a pandas dataframe.\n",
    "    Drops empty columns and reformats a str col into a float col. \n",
    "    df is sorted by date in ascending order. \n",
    "    \"\"\"\n",
    "    df = read_csv(filename)\n",
    "    \n",
    "    df['divyield_Median'] = pct_format(df['divyield_Median'])\n",
    "    \n",
    "    df.to_csv('FAMA_49CRSP.csv')\n",
    "    \n",
    "def encode(df, col):\n",
    "    \"\"\"\n",
    "    Takes in pandas dataframe and encodes df.col as numbers. \n",
    "    \"\"\"\n",
    "    encoder = preprocessing.LabelEncoder()\n",
    "    industry_desc_encode = encoder.fit_transform(df[col])\n",
    "    df[col] = industry_desc_encode\n",
    "    return df \n",
    "\n",
    "write_csv('ee6d2f60cdafb550.csv')"
   ]
  },
  {
   "cell_type": "code",
   "execution_count": 8,
   "metadata": {},
   "outputs": [
    {
     "name": "stdout",
     "output_type": "stream",
     "text": [
      "{0, 1, 2, 3, 4, 5, 6, 7, 8, 9, 10, 11, 12, 13, 14, 15, 16, 17, 18, 19, 20, 21, 22, 23, 24, 25, 26, 27, 28, 29, 30, 31, 32, 33, 34, 35, 36, 37, 38, 39, 40, 41, 42, 43, 44, 45, 46, 47, 48}\n"
     ]
    }
   ],
   "source": [
    "def split_industries():\n",
    "    df = pd.read_csv(FAMA_49CRSP)\n",
    "    \n",
    "    industries = set(df['FFI49_desc'])    \n",
    "    for ind in industries: \n",
    "        df_ind = df[df['FFI49_desc'] == ind]\n",
    "        df_ind = df_ind.drop(labels='FFI49_desc', axis=1)\n",
    "        df_ind.to_csv('industries/{}.csv'.format(ind))\n",
    "        \n",
    "    return industries\n",
    "\n",
    "print(split_industries())"
   ]
  },
  {
   "cell_type": "code",
   "execution_count": null,
   "metadata": {},
   "outputs": [],
   "source": []
  }
 ],
 "metadata": {
  "kernelspec": {
   "display_name": "Python 3",
   "language": "python",
   "name": "python3"
  },
  "language_info": {
   "codemirror_mode": {
    "name": "ipython",
    "version": 3
   },
   "file_extension": ".py",
   "mimetype": "text/x-python",
   "name": "python",
   "nbconvert_exporter": "python",
   "pygments_lexer": "ipython3",
   "version": "3.6.5"
  }
 },
 "nbformat": 4,
 "nbformat_minor": 2
}
